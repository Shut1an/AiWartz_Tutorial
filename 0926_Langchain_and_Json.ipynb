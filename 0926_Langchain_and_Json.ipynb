{
 "cells": [
  {
   "cell_type": "markdown",
   "metadata": {},
   "source": [
    "# 使用LangChain和GPT解锁结构化JSON数据：分步教程<a class=\"tocSkip\">"
   ]
  },
  {
   "cell_type": "markdown",
   "metadata": {},
   "source": [
    "## 初始化"
   ]
  },
  {
   "cell_type": "markdown",
   "metadata": {},
   "source": [
    "首先安装所需的包"
   ]
  },
  {
   "cell_type": "code",
   "execution_count": null,
   "metadata": {
    "ExecuteTime": {
     "end_time": "2023-09-26T12:53:08.744145Z",
     "start_time": "2023-09-26T12:53:07.531869Z"
    },
    "scrolled": true
   },
   "outputs": [],
   "source": [
    "pip install langchain openai"
   ]
  },
  {
   "cell_type": "code",
   "execution_count": 11,
   "metadata": {
    "ExecuteTime": {
     "end_time": "2023-09-26T12:55:18.433952Z",
     "start_time": "2023-09-26T12:55:18.430402Z"
    }
   },
   "outputs": [],
   "source": [
    "# 导入你的OpenAI API Key\n",
    "\n",
    "os.environ[\"OPENAI_API_KEY\"] = \"xxx\" # 将xxx换成你的Key"
   ]
  },
  {
   "cell_type": "markdown",
   "metadata": {},
   "source": [
    "## 导入所需的包"
   ]
  },
  {
   "cell_type": "code",
   "execution_count": 12,
   "metadata": {
    "ExecuteTime": {
     "end_time": "2023-09-26T12:55:51.476547Z",
     "start_time": "2023-09-26T12:55:45.787428Z"
    }
   },
   "outputs": [],
   "source": [
    "import os\n",
    "from langchain.prompts import ChatPromptTemplate, HumanMessagePromptTemplate\n",
    "from langchain.chat_models import ChatOpenAI\n",
    "\n",
    "from langchain.output_parsers import PydanticOutputParser\n",
    "from pydantic import BaseModel, Field\n",
    "from typing import List"
   ]
  },
  {
   "cell_type": "markdown",
   "metadata": {},
   "source": [
    "## 生成数据"
   ]
  },
  {
   "cell_type": "markdown",
   "metadata": {},
   "source": [
    "### 输出架构定义"
   ]
  },
  {
   "cell_type": "code",
   "execution_count": 13,
   "metadata": {
    "ExecuteTime": {
     "end_time": "2023-09-26T13:04:05.979666Z",
     "start_time": "2023-09-26T13:04:05.953580Z"
    }
   },
   "outputs": [],
   "source": [
    "# 使用字段描述定义一个新的Pydantic模型，并针对Twitter进行定制。\n",
    "\n",
    "class TwitterUser(BaseModel):\n",
    "    name: str = Field(description=\"Full name of the user.\")\n",
    "    handle: str = Field(description=\"Twitter handle of the user, without the '@'.\")\n",
    "    age: int = Field(description=\"Age of the user.\")\n",
    "    hobbies: List[str] = Field(description=\"List of hobbies of the user.\")\n",
    "    email: str = Field(description=\"Email address of the user.\")\n",
    "    bio: str = Field(description=\"Bio or short description about the user.\")\n",
    "    location: str = Field(description=\"Location or region where the user resides.\")\n",
    "    is_blue_badge: bool = Field(\n",
    "        description=\"Boolean indicating if the user has a verified blue badge.\"\n",
    "    )\n",
    "    joined: str = Field(description=\"Date the user joined Twitter.\")\n",
    "    gender: str = Field(description=\"Gender of the user.\")\n",
    "    appearance: str = Field(description=\"Physical description of the user.\")\n",
    "    avatar_prompt: str = Field(\n",
    "        description=\"Prompt for generating a photorealistic avatar image.\\\n",
    "        The image should capture the essence of the user's appearance description,\\\n",
    "        ideally in a setting that aligns with their interests or bio.\\\n",
    "        Use professional equipment to ensure high quality and fine details.\"\n",
    "    )\n",
    "    banner_prompt: str = Field(\n",
    "        description=\"Prompt for generating a banner image.\\\n",
    "        This image should represent the user's hobbies, interests, or the essence of their bio.\\\n",
    "        It should be high-resolution and captivating, suitable for a Twitter profile banner.\"\n",
    "    )"
   ]
  },
  {
   "cell_type": "markdown",
   "metadata": {},
   "source": [
    "### 提示词模版"
   ]
  },
  {
   "cell_type": "code",
   "execution_count": 14,
   "metadata": {
    "ExecuteTime": {
     "end_time": "2023-09-26T13:07:46.161623Z",
     "start_time": "2023-09-26T13:07:46.150354Z"
    }
   },
   "outputs": [],
   "source": [
    "# 使用新模型实例化解析器。\n",
    "parser = PydanticOutputParser(pydantic_object=TwitterUser)\n",
    "\n",
    "# 更新提示词，以匹配新的查询以及你想要的格式\n",
    "prompt = ChatPromptTemplate(\n",
    "    messages=[\n",
    "        HumanMessagePromptTemplate.from_template(\n",
    "            \"answer the users question as best as possible.\\n{format_instructions}\\n{question}\"\n",
    "        )\n",
    "    ],\n",
    "    input_variables=[\"question\"],\n",
    "    partial_variables={\n",
    "        \"format_instructions\": parser.get_format_instructions(),\n",
    "    },\n",
    ")"
   ]
  },
  {
   "cell_type": "markdown",
   "metadata": {},
   "source": [
    "### 试试看！"
   ]
  },
  {
   "cell_type": "code",
   "execution_count": 15,
   "metadata": {
    "ExecuteTime": {
     "end_time": "2023-09-26T13:10:33.875345Z",
     "start_time": "2023-09-26T13:10:22.940252Z"
    }
   },
   "outputs": [
    {
     "name": "stdout",
     "output_type": "stream",
     "text": [
      "{\n",
      "  \"name\": \"Maria Santos\",\n",
      "  \"handle\": \"mariasantos\",\n",
      "  \"age\": 32,\n",
      "  \"hobbies\": [\"Photography\", \"Cooking\", \"Hiking\"],\n",
      "  \"email\": \"mariasantos@example.com\",\n",
      "  \"bio\": \"Passionate about capturing moments through photography. Love exploring new recipes and hiking trails.\",\n",
      "  \"location\": \"São Paulo, Brazil\",\n",
      "  \"is_blue_badge\": false,\n",
      "  \"joined\": \"2015-09-17\",\n",
      "  \"gender\": \"Female\",\n",
      "  \"appearance\": \"Brunette with hazel eyes and a warm smile.\",\n",
      "  \"avatar_prompt\": \"Create a photorealistic avatar image that showcases my love for photography. Capture me with a camera in hand, surrounded by nature.\",\n",
      "  \"banner_prompt\": \"Design a captivating banner image that reflects my hobbies and interests. Incorporate elements of photography, cooking, and hiking in a beautiful landscape.\"\n",
      "}\n",
      "name='Maria Santos' handle='mariasantos' age=32 hobbies=['Photography', 'Cooking', 'Hiking'] email='mariasantos@example.com' bio='Passionate about capturing moments through photography. Love exploring new recipes and hiking trails.' location='São Paulo, Brazil' is_blue_badge=False joined='2015-09-17' gender='Female' appearance='Brunette with hazel eyes and a warm smile.' avatar_prompt='Create a photorealistic avatar image that showcases my love for photography. Capture me with a camera in hand, surrounded by nature.' banner_prompt='Design a captivating banner image that reflects my hobbies and interests. Incorporate elements of photography, cooking, and hiking in a beautiful landscape.'\n"
     ]
    }
   ],
   "source": [
    "chat_model = ChatOpenAI(\n",
    "    model=\"gpt-3.5-turbo\",\n",
    "    openai_api_key=os.getenv(\"OPENAI_API_KEY\"),\n",
    "    max_tokens=1000\n",
    ")\n",
    "\n",
    "# Generate the input using the updated prompt.\n",
    "user_query = (\n",
    "    \"Generate a detailed Twitter profile of a random realistic user with a diverse background, \"\n",
    "    \"from any country in the world, original name, including prompts for images. Come up with \"\n",
    "    \"real name, never use most popular placeholders like john smith and john doe.\"\n",
    ")\n",
    "_input = prompt.format_prompt(question=user_query)\n",
    "\n",
    "output = chat_model(_input.to_messages())\n",
    "parsed = parser.parse(output.content)\n",
    "print(output.content)\n",
    "print(parsed)"
   ]
  },
  {
   "cell_type": "code",
   "execution_count": 19,
   "metadata": {
    "ExecuteTime": {
     "end_time": "2023-09-26T13:18:19.058810Z",
     "start_time": "2023-09-26T13:18:19.054408Z"
    }
   },
   "outputs": [
    {
     "name": "stdout",
     "output_type": "stream",
     "text": [
      "messages=[HumanMessage(content='answer the users question as best as possible.\\nThe output should be formatted as a JSON instance that conforms to the JSON schema below.\\n\\nAs an example, for the schema {\"properties\": {\"foo\": {\"title\": \"Foo\", \"description\": \"a list of strings\", \"type\": \"array\", \"items\": {\"type\": \"string\"}}}, \"required\": [\"foo\"]}\\nthe object {\"foo\": [\"bar\", \"baz\"]} is a well-formatted instance of the schema. The object {\"properties\": {\"foo\": [\"bar\", \"baz\"]}} is not well-formatted.\\n\\nHere is the output schema:\\n```\\n{\"properties\": {\"name\": {\"description\": \"Full name of the user.\", \"title\": \"Name\", \"type\": \"string\"}, \"handle\": {\"description\": \"Twitter handle of the user, without the \\'@\\'.\", \"title\": \"Handle\", \"type\": \"string\"}, \"age\": {\"description\": \"Age of the user.\", \"title\": \"Age\", \"type\": \"integer\"}, \"hobbies\": {\"description\": \"List of hobbies of the user.\", \"items\": {\"type\": \"string\"}, \"title\": \"Hobbies\", \"type\": \"array\"}, \"email\": {\"description\": \"Email address of the user.\", \"title\": \"Email\", \"type\": \"string\"}, \"bio\": {\"description\": \"Bio or short description about the user.\", \"title\": \"Bio\", \"type\": \"string\"}, \"location\": {\"description\": \"Location or region where the user resides.\", \"title\": \"Location\", \"type\": \"string\"}, \"is_blue_badge\": {\"description\": \"Boolean indicating if the user has a verified blue badge.\", \"title\": \"Is Blue Badge\", \"type\": \"boolean\"}, \"joined\": {\"description\": \"Date the user joined Twitter.\", \"title\": \"Joined\", \"type\": \"string\"}, \"gender\": {\"description\": \"Gender of the user.\", \"title\": \"Gender\", \"type\": \"string\"}, \"appearance\": {\"description\": \"Physical description of the user.\", \"title\": \"Appearance\", \"type\": \"string\"}, \"avatar_prompt\": {\"description\": \"Prompt for generating a photorealistic avatar image.        The image should capture the essence of the user\\'s appearance description,        ideally in a setting that aligns with their interests or bio.        Use professional equipment to ensure high quality and fine details.\", \"title\": \"Avatar Prompt\", \"type\": \"string\"}, \"banner_prompt\": {\"description\": \"Prompt for generating a banner image.        This image should represent the user\\'s hobbies, interests, or the essence of their bio.        It should be high-resolution and captivating, suitable for a Twitter profile banner.\", \"title\": \"Banner Prompt\", \"type\": \"string\"}}, \"required\": [\"name\", \"handle\", \"age\", \"hobbies\", \"email\", \"bio\", \"location\", \"is_blue_badge\", \"joined\", \"gender\", \"appearance\", \"avatar_prompt\", \"banner_prompt\"]}\\n```\\nGenerate a detailed Twitter profile of a random realistic user with a diverse background, from any country in the world, original name, including prompts for images. Come up with real name, never use most popular placeholders like john smith and john doe.', additional_kwargs={}, example=False)]\n"
     ]
    }
   ],
   "source": [
    "print(_input)"
   ]
  },
  {
   "cell_type": "markdown",
   "metadata": {},
   "source": [
    "## 从文件中提取数据"
   ]
  },
  {
   "cell_type": "markdown",
   "metadata": {},
   "source": [
    "首先安装读取PDF文件的包"
   ]
  },
  {
   "cell_type": "code",
   "execution_count": 20,
   "metadata": {
    "ExecuteTime": {
     "end_time": "2023-09-26T14:34:10.968373Z",
     "start_time": "2023-09-26T14:34:09.138307Z"
    },
    "scrolled": true
   },
   "outputs": [
    {
     "name": "stdout",
     "output_type": "stream",
     "text": [
      "Collecting pypdf\n",
      "  Downloading pypdf-3.16.2-py3-none-any.whl (276 kB)\n",
      "\u001b[K     |████████████████████████████████| 276 kB 4.1 MB/s eta 0:00:01\n",
      "\u001b[?25hRequirement already satisfied: typing_extensions>=3.7.4.3 in /usr/local/lib/python3.9/site-packages (from pypdf) (4.7.1)\n",
      "Installing collected packages: pypdf\n",
      "Successfully installed pypdf-3.16.2\n",
      "\u001b[33mWARNING: You are using pip version 21.0.1; however, version 23.2.1 is available.\n",
      "You should consider upgrading via the '/usr/local/opt/python@3.9/bin/python3.9 -m pip install --upgrade pip' command.\u001b[0m\n",
      "Note: you may need to restart the kernel to use updated packages.\n"
     ]
    }
   ],
   "source": [
    "pip install pypdf"
   ]
  },
  {
   "cell_type": "code",
   "execution_count": 21,
   "metadata": {
    "ExecuteTime": {
     "end_time": "2023-09-26T14:35:13.369173Z",
     "start_time": "2023-09-26T14:34:51.432892Z"
    }
   },
   "outputs": [
    {
     "name": "stdout",
     "output_type": "stream",
     "text": [
      "name='Elon Musk' handle='elonmusk' age=51 hobbies=['space exploration', 'electric vehicles', 'artificial intelligence', 'sustainable energy', 'tunnel construction', 'neural interfaces', 'Mars colonization', 'hyperloop transportation'] email='elonmusk@example.com' bio=\"Elon Musk, a 51-year-old male entrepreneur, inventor, and CEO, is best known for his ambitious goals in revolutionizing transportation and energy. Born in Pretoria, South Africa, Musk later moved to the United States to pursue higher education. He attended Queen's University in Kingston, Ontario, Canada for two years before transferring to the University of Pennsylvania. As a visionary with a normal build, short-cropped hair, and a trimmed beard, Musk often sports tailored suits or smart casual attire, giving him a confident yet approachable demeanor. Throughout his career, Musk has founded and led several successful companies, including SpaceX, Tesla, Neuralink, and The Boring Company. His interests span across various fields such as space exploration, electric vehicles, artificial intelligence, sustainable energy, tunnel construction, neural interfaces, Mars colonization, and hyperloop transportation. With his dedication to advancing technology and sustainable solutions, Elon Musk continues to leave an indelible mark on the world.\" location='United States' is_blue_badge=True joined='2009-06-01' gender='male' appearance='normal build, short-cropped hair, trimmed beard' avatar_prompt='Generate a photorealistic avatar image of Elon Musk capturing his visionary appearance, ideally in a setting related to his interests or bio. Use professional equipment to ensure high quality and fine details.' banner_prompt=\"Generate a high-resolution and captivating banner image that represents Elon Musk's interests, such as space exploration, electric vehicles, and sustainable energy. It should be suitable for a Twitter profile banner.\"\n"
     ]
    }
   ],
   "source": [
    "from langchain.document_loaders import PyPDFLoader\n",
    "\n",
    "loader = PyPDFLoader(\"elon.pdf\")\n",
    "document = loader.load()\n",
    "\n",
    "document_query = \"Create a profile based on this description: \" + document[0].page_content\n",
    "\n",
    "_input = prompt.format_prompt(question=document_query)\n",
    "output = chat_model(_input.to_messages())\n",
    "parsed = parser.parse(output.content)\n",
    "\n",
    "print(parsed)"
   ]
  }
 ],
 "metadata": {
  "kernelspec": {
   "display_name": "Python 3",
   "language": "python",
   "name": "python3"
  },
  "language_info": {
   "codemirror_mode": {
    "name": "ipython",
    "version": 3
   },
   "file_extension": ".py",
   "mimetype": "text/x-python",
   "name": "python",
   "nbconvert_exporter": "python",
   "pygments_lexer": "ipython3",
   "version": "3.9.2"
  },
  "toc": {
   "base_numbering": 1,
   "nav_menu": {},
   "number_sections": true,
   "sideBar": true,
   "skip_h1_title": false,
   "title_cell": "Table of Contents",
   "title_sidebar": "Contents",
   "toc_cell": false,
   "toc_position": {},
   "toc_section_display": true,
   "toc_window_display": false
  },
  "varInspector": {
   "cols": {
    "lenName": 16,
    "lenType": 16,
    "lenVar": 40
   },
   "kernels_config": {
    "python": {
     "delete_cmd_postfix": "",
     "delete_cmd_prefix": "del ",
     "library": "var_list.py",
     "varRefreshCmd": "print(var_dic_list())"
    },
    "r": {
     "delete_cmd_postfix": ") ",
     "delete_cmd_prefix": "rm(",
     "library": "var_list.r",
     "varRefreshCmd": "cat(var_dic_list()) "
    }
   },
   "types_to_exclude": [
    "module",
    "function",
    "builtin_function_or_method",
    "instance",
    "_Feature"
   ],
   "window_display": false
  }
 },
 "nbformat": 4,
 "nbformat_minor": 2
}
